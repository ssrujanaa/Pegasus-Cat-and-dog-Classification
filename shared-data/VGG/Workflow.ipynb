{
 "cells": [
  {
   "cell_type": "code",
   "execution_count": null,
   "metadata": {
    "scrolled": true
   },
   "outputs": [],
   "source": [
    "!sudo pip3 install --upgrade pip keras==2.1.5 tensorflow==1.13.1 numpy pandas pillow sklearn optuna scikit-image  optkeras h5py==2.10.0"
   ]
  },
  {
   "cell_type": "code",
   "execution_count": 1,
   "metadata": {},
   "outputs": [
    {
     "data": {
      "text/plain": [
       "<Pegasus.api.workflow.Workflow at 0x7fab911dbba8>"
      ]
     },
     "execution_count": 1,
     "metadata": {},
     "output_type": "execute_result"
    }
   ],
   "source": [
    "#!/usr/bin/env python3\n",
    "import os\n",
    "import logging\n",
    "from pathlib import Path\n",
    "import requests \n",
    "from glob import glob\n",
    "from zipfile import ZipFile\n",
    "import pickle\n",
    "import pandas as pd\n",
    "\n",
    "logging.basicConfig(level=logging.DEBUG)\n",
    "\n",
    "#Import Pegasus API\n",
    "from Pegasus.api import *\n",
    "\n",
    "#Properties\n",
    "props = Properties()\n",
    "props[\"dagman.retry\"] = \"100\"\n",
    "props[\"pegasus.transfer.arguments\"] = \"-m 1\"\n",
    "props.write()\n",
    "\n",
    "#Replica Catalog\n",
    "rc = ReplicaCatalog()\n",
    "input_files = glob('*.jpg')\n",
    "input_files.sort()\n",
    "in_files=[]\n",
    "\n",
    "checkpoint_file = \"checkpoint_file2.hdf5\"\n",
    "if not os.path.isfile(checkpoint_file):\n",
    "    df = pd.DataFrame(list())\n",
    "    df.to_csv(checkpoint_file)\n",
    "    \n",
    "hpo_checkpoint_file = 'hpo_checkpoint.pkl'\n",
    "if not os.path.isfile(hpo_checkpoint_file):\n",
    "    df = pd.DataFrame(list())\n",
    "    df.to_csv(hpo_checkpoint_file)\n",
    "    \n",
    "for file in input_files:\n",
    "    in_files.append(File(file))\n",
    "    rc.add_replica(\"local\", File(file), str(Path(\".\").resolve() / file))  \n",
    "rc.add_replica(\"local\", checkpoint_file, Path(\".\").resolve() / checkpoint_file)\n",
    "rc.add_replica(\"local\", hpo_checkpoint_file, Path(\".\").resolve() / hpo_checkpoint_file)\n",
    "rc.write()\n",
    "\n",
    "\n",
    "#Transformation\n",
    "tools_container = Container(\n",
    "                    \"tools-container\", \n",
    "                    Container.DOCKER, \n",
    "                    image=\"docker:///ssrujanaa/catsanddogs:latest\"\n",
    "                )\n",
    "\n",
    "pre_process_resize = Transformation( \"preprocess1.py\",\n",
    "            site=\"local\",\n",
    "            pfn=\"/usr/bin/preprocess1.py\",\n",
    "            is_stageable=False,\n",
    "            container=tools_container\n",
    "            )\n",
    "\n",
    "pre_process_augment = Transformation( \"Augmentation.py\",\n",
    "            site=\"condorpool\",\n",
    "            pfn=\"/usr/bin/Augmentation.py\",\n",
    "            is_stageable=False,\n",
    "            container=tools_container\n",
    "            )\n",
    "\n",
    "data_split  = Transformation( \"Data_Split.py\",\n",
    "            site=\"condorpool\",\n",
    "            pfn=\"/usr/bin/Data_Split.py\",\n",
    "            is_stageable=False,\n",
    "            container=tools_container\n",
    "            )\n",
    "\n",
    "\n",
    "hpo  = Transformation( \"hpo_checkpointing.py\",\n",
    "            site=\"condorpool\",\n",
    "            pfn=\"/usr/bin/hpo_checkpointing.py\",\n",
    "            is_stageable=False,\n",
    "            container=tools_container\n",
    "            )\n",
    "\n",
    "vgg_model  = Transformation( \"VGG_model.py\",\n",
    "            site=\"condorpool\",\n",
    "            pfn=\"/usr/bin/VGG_model.py\",\n",
    "            is_stageable=False,\n",
    "            container=tools_container\n",
    "            )\n",
    "\n",
    "test_model =  Transformation( \"Test.py\",\n",
    "            site=\"local\",\n",
    "            pfn=\"/usr/bin/Test.py\",\n",
    "            is_stageable=False,\n",
    "            container=tools_container\n",
    "            )\n",
    "                    \n",
    "tc = TransformationCatalog()\\\n",
    "    .add_containers(tools_container)\\\n",
    "    .add_transformations(pre_process_resize,pre_process_augment,data_split,hpo,vgg_model,test_model)\\\n",
    "    .write()\n",
    "\n",
    "#Workflow\n",
    "wf = Workflow(\"Cats_and_Dogs\", infer_dependencies=True)\n",
    "\n",
    "\n",
    "resized_images = File('resized_images.txt')\n",
    "all_files = [File(\"resized_{}\".format(f.lfn)) for f in in_files]\n",
    "labels = File('labels.txt')\n",
    "\n",
    "job_preprocess1 = Job(pre_process_resize)\\\n",
    "                    .add_inputs(*in_files)\\\n",
    "                    .add_outputs(*all_files,resized_images,labels) \n",
    "\n",
    "aug_images_txt = File('augmentation.txt')\n",
    "aug_labels_txt = File('aug_labels.txt')\n",
    "augmented_files = []\n",
    "for f in all_files:\n",
    "    augmented_files.extend([File(str(f).replace(\"{}\".format(os.path.splitext(str(f))[0]), \"Aug_{}_{}\".format(os.path.splitext(str(f))[0],i))) for i in range(3)])\n",
    "\n",
    "    \n",
    "job_preprocess2 = Job(pre_process_augment)\\\n",
    "                    .add_inputs(*all_files,labels)\\\n",
    "                    .add_outputs(aug_images_txt,aug_labels_txt,*augmented_files)\n",
    "\n",
    "training_data = File('training.pkl')\n",
    "testing_data = File('testing.pkl')\n",
    "val_data = File('validation.pkl')\n",
    "\n",
    "job_data_split = Job(data_split)\\\n",
    "                    .add_inputs(*augmented_files,labels)\\\n",
    "                    .add_outputs(training_data,testing_data,val_data)\n",
    "\n",
    "model = File('model.h5')\n",
    "output_file = File('hpo_results.pkl')\n",
    "job_hpo = Job(hpo)\\\n",
    "                    .add_checkpoint(File(hpo_checkpoint_file), stage_out=True)\\\n",
    "                    .add_inputs(*augmented_files,training_data,testing_data,val_data)\\\n",
    "                    .add_profiles(Namespace.PEGASUS, key=\"maxwalltime\", value=1)\\\n",
    "                    .add_outputs(output_file)\n",
    "\n",
    "job_vgg_model = Job(vgg_model)\\\n",
    "                    .add_args(\"-epochs\",6, \"--batch_size\",2)\\\n",
    "                    .add_checkpoint(File(checkpoint_file), stage_out=True)\\\n",
    "                    .add_inputs(*augmented_files,training_data,testing_data,val_data,output_file)\\\n",
    "                    .add_profiles(Namespace.PEGASUS, key=\"maxwalltime\", value=1)\\\n",
    "                    .add_outputs(model)\n",
    "\n",
    "results_file = File('Result_Metrics.txt')\n",
    "job_test_model = Job(test_model)\\\n",
    "                    .add_inputs(*augmented_files,testing_data,model)\\\n",
    "                    .add_outputs(results_file)\n",
    "\n",
    "wf.add_jobs(job_preprocess1,job_preprocess2,job_data_split,job_hpo,job_vgg_model,job_test_model)                                    "
   ]
  },
  {
   "cell_type": "code",
   "execution_count": null,
   "metadata": {
    "scrolled": true
   },
   "outputs": [
    {
     "name": "stderr",
     "output_type": "stream",
     "text": [
      "\n",
      "################\n",
      "# pegasus-plan #\n",
      "################\n",
      "[main] WARN  schema.JsonMetaSchema  - Unknown keyword $defs - you should define your own Meta Schema. If the keyword is irrelevant for validation, just use a NonValidationKeyword\n",
      "[main] WARN  schema.JsonMetaSchema  - Unknown keyword additionalItems - you should define your own Meta Schema. If the keyword is irrelevant for validation, just use a NonValidationKeyword\n",
      "[main] WARN  schema.JsonMetaSchema  - Unknown keyword examples - you should define your own Meta Schema. If the keyword is irrelevant for validation, just use a NonValidationKeyword\n",
      "2020.11.17 22:31:09.888 UTC:\n",
      "2020.11.17 22:31:09.893 UTC:   -----------------------------------------------------------------------\n",
      "2020.11.17 22:31:09.899 UTC:   File for submitting this DAG to HTCondor           : Cats_and_Dogs-0.dag.condor.sub\n",
      "2020.11.17 22:31:09.904 UTC:   Log of DAGMan debugging messages                 : Cats_and_Dogs-0.dag.dagman.out\n",
      "2020.11.17 22:31:09.910 UTC:   Log of HTCondor library output                     : Cats_and_Dogs-0.dag.lib.out\n",
      "2020.11.17 22:31:09.916 UTC:   Log of HTCondor library error messages             : Cats_and_Dogs-0.dag.lib.err\n",
      "2020.11.17 22:31:09.921 UTC:   Log of the life of condor_dagman itself          : Cats_and_Dogs-0.dag.dagman.log\n",
      "2020.11.17 22:31:09.927 UTC:\n",
      "2020.11.17 22:31:09.933 UTC:   -no_submit given, not submitting DAG to HTCondor.  You can do this with:\n",
      "2020.11.17 22:31:09.944 UTC:   -----------------------------------------------------------------------\n",
      "2020.11.17 22:31:11.234 UTC:   Your database is compatible with Pegasus version: 5.0.0dev\n",
      "2020.11.17 22:31:13.182 UTC:   Created Pegasus database in: sqlite:////home/scitech/shared-data/VGG/scitech/pegasus/Cats_and_Dogs/run0001/Cats_and_Dogs-0.replicas.db\n",
      "2020.11.17 22:31:13.188 UTC:   Your database is compatible with Pegasus version: 5.0.0dev\n",
      "2020.11.17 22:31:13.285 UTC:   Output replica catalog set to jdbc:sqlite:/home/scitech/shared-data/VGG/scitech/pegasus/Cats_and_Dogs/run0001/Cats_and_Dogs-0.replicas.db\n",
      "2020.11.17 22:31:13.563 UTC:   Submitting to condor Cats_and_Dogs-0.dag.condor.sub\n",
      "2020.11.17 22:31:13.605 UTC:\n",
      "2020.11.17 22:31:13.611 UTC:   Your workflow has been started and is running in the base directory:\n",
      "2020.11.17 22:31:13.616 UTC:\n",
      "2020.11.17 22:31:13.621 UTC:   /home/scitech/shared-data/VGG/scitech/pegasus/Cats_and_Dogs/run0001\n",
      "2020.11.17 22:31:13.627 UTC:\n",
      "2020.11.17 22:31:13.633 UTC:   *** To monitor the workflow you can run ***\n",
      "2020.11.17 22:31:13.638 UTC:\n",
      "2020.11.17 22:31:13.644 UTC:   pegasus-status -l /home/scitech/shared-data/VGG/scitech/pegasus/Cats_and_Dogs/run0001\n",
      "2020.11.17 22:31:13.649 UTC:\n",
      "2020.11.17 22:31:13.655 UTC:   *** To remove your workflow run ***\n",
      "2020.11.17 22:31:13.660 UTC:\n",
      "2020.11.17 22:31:13.666 UTC:   pegasus-remove /home/scitech/shared-data/VGG/scitech/pegasus/Cats_and_Dogs/run0001\n",
      "2020.11.17 22:31:13.938 UTC:   Time taken to execute is 7.154 seconds\n",
      "\n"
     ]
    },
    {
     "name": "stdout",
     "output_type": "stream",
     "text": [
      "[\u001b[1;32m##########################\u001b[0m------------------------]  51.7% ..Running (\u001b[1;32mCompleted: 15\u001b[0m, \u001b[1;33mQueued: 0\u001b[0m, \u001b[1;36mRunning: 2\u001b[0m, \u001b[1;31mFailed: 0\u001b[0m)"
     ]
    }
   ],
   "source": [
    "try:\n",
    "     wf.plan(submit=True)\\\n",
    "        .wait()\\\n",
    "        .analyze()\\\n",
    "        .statistics()\n",
    "except PegasusClientError as e:\n",
    "    print(e.output)"
   ]
<<<<<<< HEAD
  }
 ],
 "metadata": {
  "kernelspec": {
   "display_name": "Python 3",
   "language": "python",
   "name": "python3"
  },
  "language_info": {
   "codemirror_mode": {
    "name": "ipython",
    "version": 3
   },
   "file_extension": ".py",
   "mimetype": "text/x-python",
   "name": "python",
   "nbconvert_exporter": "python",
   "pygments_lexer": "ipython3",
   "version": "3.6.8"
=======
  },
  {
   "cell_type": "code",
   "execution_count": null,
   "metadata": {},
   "outputs": [],
   "source": []
  },
  {
   "cell_type": "code",
   "execution_count": null,
   "metadata": {
    "scrolled": true
   },
   "outputs": [],
   "source": []
  },
  {
   "cell_type": "code",
   "execution_count": null,
   "metadata": {},
   "outputs": [],
   "source": []
  },
  {
   "cell_type": "code",
   "execution_count": null,
   "metadata": {},
   "outputs": [],
   "source": []
  },
  {
   "cell_type": "code",
   "execution_count": null,
   "metadata": {},
   "outputs": [],
   "source": []
  },
  {
   "cell_type": "code",
   "execution_count": null,
   "metadata": {},
   "outputs": [],
   "source": [
    "pwd\n"
   ]
  },
  {
   "cell_type": "code",
   "execution_count": null,
   "metadata": {},
   "outputs": [],
   "source": []
  },
  {
   "cell_type": "code",
   "execution_count": null,
   "metadata": {},
   "outputs": [],
   "source": []
>>>>>>> 11ce6a53df07f49eee9f60f070ab22d62976baea
  }
